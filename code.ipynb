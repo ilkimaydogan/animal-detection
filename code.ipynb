{
 "cells": [
  {
   "cell_type": "code",
   "execution_count": 1,
   "id": "783d0732-9708-4c49-9285-9255bad335f6",
   "metadata": {},
   "outputs": [],
   "source": [
    "# Importing ML and python Libraries\n",
    "import os\n",
    "import pandas as pd\n",
    "import numpy as np\n",
    "import matplotlib.pyplot as plt\n",
    "from sklearn.model_selection import train_test_split\n",
    "from PIL import Image\n",
    "\n",
    "# Importing Deep Learning Libraries \n",
    "import torch\n",
    "import torchvision\n",
    "from torchvision import transforms\n",
    "from torchvision.datasets import ImageFolder\n",
    "from torch.utils.data import DataLoader, random_split, Dataset, ConcatDataset\n",
    "import torch.nn as nn\n",
    "import torch.nn.functional as F\n",
    "import torch.optim as optim"
   ]
  },
  {
   "cell_type": "code",
   "execution_count": 2,
   "id": "07fa2f8a-2f3c-427d-8122-be42c95e1136",
   "metadata": {},
   "outputs": [],
   "source": [
    "device = torch.device('cuda:0' if torch.cuda.is_available() else 'cpu')"
   ]
  },
  {
   "cell_type": "markdown",
   "id": "aa86ef8e-a2cf-4878-838f-f357c063a5cc",
   "metadata": {},
   "source": [
    "### Functions"
   ]
  },
  {
   "cell_type": "code",
   "execution_count": 3,
   "id": "1295bb65-4f33-4d5d-9ac0-54e86ee0cbd4",
   "metadata": {},
   "outputs": [],
   "source": [
    "def read_images_from_folder(folder_path):\n",
    "    \"\"\"\n",
    "    Reads images from a folder and creates a Pandas DataFrame.\n",
    "    \"\"\"\n",
    "    images = []\n",
    "    labels = []\n",
    "\n",
    "    class_names = sorted(os.listdir(folder_path))\n",
    "\n",
    "    for class_idx, class_name in enumerate(class_names):\n",
    "        class_dir = os.path.join(folder_path, class_name)\n",
    "        for filename in os.listdir(class_dir):\n",
    "            img_path = os.path.join(class_dir, filename)\n",
    "            image = Image.open(img_path)\n",
    "            image = image.convert('RGB')\n",
    "            images.append(image)\n",
    "            labels.append(class_idx)\n",
    "\n",
    "    # Create a DataFrame\n",
    "    df = pd.DataFrame({'image': images, 'label': labels})\n",
    "    return df"
   ]
  },
  {
   "cell_type": "code",
   "execution_count": 4,
   "id": "5ebb5ac9-c8fc-4f41-918d-854828f39756",
   "metadata": {
    "scrolled": true
   },
   "outputs": [],
   "source": [
    "def print_label_count_df(df):\n",
    "    \"\"\"\n",
    "    Visualizes label distribution in DataFrame as barplot.\n",
    "    \"\"\"\n",
    "    # Count occurrences of each item\n",
    "    labels = np.array(df['label'])\n",
    "    unique_items, counts = np.unique(labels, return_counts=True)\n",
    "    plt.bar(unique_items, counts)\n",
    "    \n",
    "    # Add labels and title\n",
    "    plt.xlabel('Item')\n",
    "    plt.ylabel('Count')\n",
    "    plt.yticks(np.arange(counts.max()+1))\n",
    "    plt.xticks(unique_items) \n",
    "    plt.title('Occurrence of Each Label in DataFrame')\n",
    "    \n",
    "    # Show plot\n",
    "    plt.show()"
   ]
  },
  {
   "cell_type": "code",
   "execution_count": 5,
   "id": "fd2c8afc-cedc-420d-9ff6-d4c4e0e2d362",
   "metadata": {},
   "outputs": [],
   "source": [
    "def print_label_count(dataloader, classes):\n",
    "    \"\"\"\n",
    "    Visualizes label distribution in a dataloader as a bar plot.\n",
    "    \"\"\"\n",
    "    all_labels = []\n",
    "    for _, labels in dataloader:\n",
    "        all_labels.extend(labels.numpy())  # Accumulate labels from batches\n",
    "\n",
    "    unique_labels, counts = np.unique(all_labels, return_counts=True)\n",
    "\n",
    "    plt.bar(unique_labels, counts)\n",
    "\n",
    "    # Add labels and title\n",
    "    plt.xlabel('Label')\n",
    "    plt.ylabel('Count')\n",
    "    plt.xticks(rotation=90)\n",
    "    plt.xticks(unique_labels, [classes[i] for i in unique_labels])  # Label with class names\n",
    "    plt.title('Label Distribution in Dataloader')\n",
    "\n",
    "    # Show plot\n",
    "    plt.show()\n"
   ]
  },
  {
   "cell_type": "code",
   "execution_count": 6,
   "id": "689cb071-68a3-406a-950a-c9c102260af0",
   "metadata": {},
   "outputs": [],
   "source": [
    "def count_images_and_classes(dataloader, classes):\n",
    "    \"\"\"\n",
    "    Counts the number of images and occurrences of each class in a dataloader.\n",
    "    \"\"\"\n",
    "    total_count = 0\n",
    "    class_counts = {cls: 0 for cls in classes}\n",
    "\n",
    "    for _, labels in dataloader:\n",
    "        total_count += labels.size(0)  # Add batch size\n",
    "        for label in labels:\n",
    "            class_counts[classes[label]] += 1\n",
    "\n",
    "    print(f\"Total number of images: {total_count}\")\n",
    "    print(\"Class counts:\")\n",
    "    for cls, count in class_counts.items():\n",
    "        print(f\"{cls}: {count}\")"
   ]
  },
  {
   "cell_type": "code",
   "execution_count": 7,
   "id": "a6cc8665-4b0a-49ce-befd-e6f488b2fb7c",
   "metadata": {},
   "outputs": [],
   "source": [
    "def plot_image_samples(df, title=\"DataFrame\", num_samples=3):\n",
    "    \"\"\"\n",
    "    Plots image samples from a single DataFrame within one figure.\n",
    "    \"\"\"\n",
    "    sample_indices = np.random.choice(len(df), num_samples)\n",
    "    sample_images = [df['image'].iloc[i] for i in sample_indices]\n",
    "    sample_labels = [df['label'].iloc[i] for i in sample_indices] \n",
    "    \n",
    "    # display the images with their predicted and real labels\n",
    "    fig, axes = plt.subplots(1, num_samples, figsize=(15, 5))\n",
    "    for i, (image, real_label) in enumerate(zip(sample_images, sample_labels)):\n",
    "        axes[i].imshow(image)\n",
    "        axes[i].set_title(f\"Label: {real_label} From: {title}\")\n",
    "        axes[i].axis(\"off\")\n",
    "    \n",
    "    plt.tight_layout()\n",
    "    plt.show()"
   ]
  },
  {
   "cell_type": "code",
   "execution_count": 8,
   "id": "c8f00f75-6161-474d-9af2-4085f81538bd",
   "metadata": {},
   "outputs": [],
   "source": [
    "def print_images(loader):\n",
    "    \"\"\"\n",
    "    Takes a loader and print an image for each batch\n",
    "    \"\"\"\n",
    "    def imshow(img):\n",
    "        img = img / 2 + 0.5     \n",
    "        npimg = img.numpy()\n",
    "        plt.imshow(np.transpose(npimg, (1, 2, 0)))\n",
    "        plt.show()\n",
    "    \n",
    "    # Get some random images\n",
    "    dataiter = iter(loader)\n",
    "    images, labels = next(dataiter)\n",
    "    \n",
    "    # Show images\n",
    "    imshow(torchvision.utils.make_grid(images))"
   ]
  },
  {
   "cell_type": "code",
   "execution_count": 9,
   "id": "6f674a34-24e1-4e77-86d1-46f6fc59ddd2",
   "metadata": {},
   "outputs": [],
   "source": [
    "# Creating custom dataset class for transforming dataframes to datasets\n",
    "class CustomImageDataset(Dataset):\n",
    "    def __init__(self, df, transform=None):\n",
    "        self.df = df\n",
    "        self.img_labels = df['label']\n",
    "        self.transform = transform\n",
    "\n",
    "    def __len__(self):\n",
    "        return len(self.img_labels)\n",
    "\n",
    "    def __getitem__(self, idx):\n",
    "        image = self.df['image'].iloc[idx]  \n",
    "        label = self.df['label'].iloc[idx]\n",
    "        if self.transform:\n",
    "            image = self.transform(image)\n",
    "        return image, label"
   ]
  },
  {
   "cell_type": "markdown",
   "id": "07be5055-a7e2-48c0-a262-1ac5caf6579e",
   "metadata": {},
   "source": [
    "### Reading data and transforming to Dataset"
   ]
  },
  {
   "cell_type": "code",
   "execution_count": 10,
   "id": "d760b3f8-a119-4890-8f63-ade54a4833b7",
   "metadata": {},
   "outputs": [],
   "source": [
    "# Path to the folder containing images\n",
    "folder_path = \"raw-img\"\n",
    "# Create a dataframe from the folder\n",
    "df = read_images_from_folder(folder_path)"
   ]
  },
  {
   "cell_type": "code",
   "execution_count": 11,
   "id": "d060fd16-f446-4671-a050-14ebb49fb227",
   "metadata": {},
   "outputs": [],
   "source": [
    "classes = [\"cane\",\n",
    "           \"cavallo\",\n",
    "           \"elefante\",\n",
    "           \"farfalla\",\n",
    "           \"gallina\",\n",
    "           \"gatto\", \n",
    "           \"mucca\",\n",
    "          \"pecora\",\n",
    "           \"ragno\",\n",
    "           \"scoiattolo\"]"
   ]
  },
  {
   "cell_type": "code",
   "execution_count": 12,
   "id": "fbf1d9be-c073-417d-ba83-def42226d083",
   "metadata": {},
   "outputs": [],
   "source": [
    "# 80% for train\n",
    "# 10% for validation\n",
    "# 10% for test\n",
    "\n",
    "train_df, test_df = train_test_split(df, test_size=0.2, random_state=42)\n",
    "test_df, val_df = train_test_split(test_df, test_size=0.5, random_state=42)"
   ]
  },
  {
   "cell_type": "code",
   "execution_count": 13,
   "id": "36d5c8bb-4104-4b6b-9ccb-6ecdfd7e453d",
   "metadata": {},
   "outputs": [],
   "source": [
    "# define transformations for data augmentation\n",
    "\n",
    "transform_original = transforms.Compose([\n",
    "    transforms.Resize((224, 224)),  # resize images to 224x224\n",
    "    transforms.ToTensor(),  # convert images to PyTorch tensors\n",
    "    transforms.Normalize(mean=[0.5, 0.5, 0.5], std=[0.5, 0.5, 0.5])  # normalize the images\n",
    "])\n",
    "\n",
    "train_transform1 = transforms.Compose([\n",
    "    transforms.Resize((224, 224)),\n",
    "    transforms.RandomHorizontalFlip(),\n",
    "    transforms.ToTensor(),\n",
    "    transforms.Normalize((0.5, 0.5, 0.5), (0.5, 0.5, 0.5))\n",
    "])\n",
    "\n",
    "train_transform2 = transforms.Compose([\n",
    "    transforms.Resize((224, 224)),  # Example transformation\n",
    "    transforms.RandomRotation(degrees=(-20, 20)),  # Example transformation\n",
    "    transforms.ToTensor(),\n",
    "    transforms.Normalize((0.5, 0.5, 0.5), (0.5, 0.5, 0.5))\n",
    "])\n",
    "\n",
    "train_transform3 = transforms.Compose([\n",
    "    transforms.Resize((224, 224)),  # Example transformation\n",
    "    transforms.ColorJitter(contrast=0.2),  # Example transformation\n",
    "    transforms.ToTensor(),\n",
    "    transforms.Normalize((0.5, 0.5, 0.5), (0.5, 0.5, 0.5))\n",
    "])"
   ]
  },
  {
   "cell_type": "markdown",
   "id": "db2d2f8b-f774-4ed2-8e49-df40ec5ebee5",
   "metadata": {},
   "source": [
    "After trying different variations I get the best accuracy with concatinating different augmented images for train set."
   ]
  },
  {
   "cell_type": "code",
   "execution_count": 14,
   "id": "4e6a191f-8287-47c9-a687-d9f198a2129f",
   "metadata": {},
   "outputs": [],
   "source": [
    "# Create multiple dataset with different techniques for train data\n",
    "dataset1 = CustomImageDataset(train_df, transform=train_transform1)\n",
    "dataset2 = CustomImageDataset(train_df, transform=train_transform2)\n",
    "dataset3 = CustomImageDataset(train_df, transform=train_transform3)\n",
    "dataset_org = CustomImageDataset(train_df, transform=transform_original)\n",
    "trainset = ConcatDataset([dataset_org,dataset1, dataset2, dataset3])"
   ]
  },
  {
   "cell_type": "code",
   "execution_count": 15,
   "id": "29639a90-b3f0-488d-9157-57b28963d467",
   "metadata": {},
   "outputs": [],
   "source": [
    "# Define batch size and other DataLoader parameters\n",
    "batch_size = 32\n",
    "shuffle = True\n",
    "num_workers = 2\n",
    "\n",
    "# Create a DataLoader from the dataset\n",
    "trainloader = DataLoader(trainset, batch_size=batch_size, shuffle=shuffle)"
   ]
  },
  {
   "cell_type": "code",
   "execution_count": 16,
   "id": "10da2185-3c2a-4d73-a67d-dc68a1c8f583",
   "metadata": {},
   "outputs": [],
   "source": [
    "testset = CustomImageDataset(test_df, transform=transform_original)\n",
    "testloader = DataLoader(testset, batch_size=batch_size, shuffle=shuffle)"
   ]
  },
  {
   "cell_type": "code",
   "execution_count": 17,
   "id": "b764faca-97bf-4f1c-a984-a78a0c5f3de6",
   "metadata": {},
   "outputs": [],
   "source": [
    "valset = CustomImageDataset(val_df, transform=transform_original)\n",
    "valloader = DataLoader(valset, batch_size=batch_size, shuffle=shuffle)"
   ]
  },
  {
   "cell_type": "code",
   "execution_count": 18,
   "id": "992666f2-2f73-4ad8-9ef4-c4dc81f2b1f9",
   "metadata": {},
   "outputs": [
    {
     "data": {
      "image/png": "[encoded data removed]",
      "text/plain": [
       "<Figure size 640x480 with 1 Axes>"
      ]
     },
     "metadata": {},
     "output_type": "display_data"
    }
   ],
   "source": [
    "print_label_count_df(df)"
   ]
  },
  {
   "cell_type": "code",
   "execution_count": 19,
   "id": "d0c67976-f90d-4ad3-8ac9-a1d9f48e3846",
   "metadata": {},
   "outputs": [
    {
     "name": "stdout",
     "output_type": "stream",
     "text": [
      "-----------------THE IMAGE COUNT FOR TRAIN SET-----------------\n",
      "Total number of images: 83772\n",
      "Class counts:\n",
      "cane: 15508\n",
      "cavallo: 8404\n",
      "elefante: 4556\n",
      "farfalla: 6768\n",
      "gallina: 9984\n",
      "gatto: 5340\n",
      "mucca: 6160\n",
      "pecora: 5760\n",
      "ragno: 15400\n",
      "scoiattolo: 5892\n"
     ]
    },
    {
     "data": {
      "image/png": "[encoded data removed]",
      "text/plain": [
       "<Figure size 640x480 with 1 Axes>"
      ]
     },
     "metadata": {},
     "output_type": "display_data"
    },
    {
     "name": "stdout",
     "output_type": "stream",
     "text": [
      "-----------------THE IMAGE COUNT FOR VALIDATION SET-----------------\n",
      "Total number of images: 2618\n",
      "Class counts:\n",
      "cane: 500\n",
      "cavallo: 250\n",
      "elefante: 171\n",
      "farfalla: 193\n",
      "gallina: 299\n",
      "gatto: 170\n",
      "mucca: 157\n",
      "pecora: 173\n",
      "ragno: 504\n",
      "scoiattolo: 201\n"
     ]
    },
    {
     "data": {
      "image/png": "[encoded data removed]",
      "text/plain": [
       "<Figure size 640x480 with 1 Axes>"
      ]
     },
     "metadata": {},
     "output_type": "display_data"
    },
    {
     "name": "stdout",
     "output_type": "stream",
     "text": [
      "-----------------THE IMAGE COUNT FOR TEST SET-----------------\n",
      "Total number of images: 2618\n",
      "Class counts:\n",
      "cane: 486\n",
      "cavallo: 272\n",
      "elefante: 136\n",
      "farfalla: 227\n",
      "gallina: 303\n",
      "gatto: 163\n",
      "mucca: 169\n",
      "pecora: 207\n",
      "ragno: 467\n",
      "scoiattolo: 188\n"
     ]
    },
    {
     "data": {
      "image/png": "[encoded data removed]",
      "text/plain": [
       "<Figure size 640x480 with 1 Axes>"
      ]
     },
     "metadata": {},
     "output_type": "display_data"
    }
   ],
   "source": [
    "print(\"-----------------THE IMAGE COUNT FOR TRAIN SET-----------------\")\n",
    "count_images_and_classes(trainloader, classes)\n",
    "print_label_count(trainloader, classes)\n",
    "print(\"-----------------THE IMAGE COUNT FOR VALIDATION SET-----------------\")\n",
    "count_images_and_classes(valloader, classes)\n",
    "print_label_count(valloader, classes)\n",
    "print(\"-----------------THE IMAGE COUNT FOR TEST SET-----------------\")\n",
    "count_images_and_classes(testloader, classes)\n",
    "print_label_count(testloader, classes)"
   ]
  },
  {
   "cell_type": "markdown",
   "id": "08b8a73a-45fa-4d89-a24d-8c5184fe7743",
   "metadata": {},
   "source": [
    "### Building the CNN\n",
    "#### Architecture Overview:\n",
    "The architecture follows a common CNN pattern of stacking convolutional layers for feature extraction followed by fully connected layers for classification. The network consists of six convolutional layers (conv1 to conv6), each followed by ReLU activation and max pooling. The final feature map is flattened and passed through two fully connected layers (fc1 and fc2) to produce class probabilities.\n",
    "##### Layer Details:\n",
    "###### Convolutional Layers:\n",
    "- Use 3x3 kernels with padding to maintain spatial dimensions.\n",
    "- The number of filters increases with depth (16, 32, 64, 128, 256, 512) to extract progressively more complex features.\n",
    "###### Max Pooling:\n",
    "- 2x2 pooling layers are applied after each convolutional layer to reduce spatial dimensions and prevent overfitting.\n",
    "###### Fully Connected Layers:\n",
    "- fc1 maps the flattened features to a 128-dimensional space.\n",
    "- fc2 produces the final output with 10 dimensions (for 10 classes)."
   ]
  },
  {
   "cell_type": "code",
   "execution_count": 20,
   "id": "52f225cb-b3ee-41db-a40a-98ed04b5dd48",
   "metadata": {},
   "outputs": [],
   "source": [
    "class Net(nn.Module):\n",
    "    def __init__(self):\n",
    "        super().__init__()\n",
    "       # Convolutional layers with ReLU activation\n",
    "        self.conv1 = nn.Conv2d(3, 16, kernel_size=3, padding=1)\n",
    "        self.conv2 = nn.Conv2d(16, 32, kernel_size=3, padding=1)\n",
    "        self.conv3 = nn.Conv2d(32, 64, kernel_size=3, padding=1)\n",
    "        self.conv4 = nn.Conv2d(64, 128, kernel_size=3, padding=1)\n",
    "        self.conv5 = nn.Conv2d(128, 256, kernel_size=3, padding=1)\n",
    "        self.conv6 = nn.Conv2d(256, 512, kernel_size=3, padding=1)\n",
    "\n",
    "        # Max pooling layer\n",
    "        self.pool = nn.MaxPool2d(2, 2)\n",
    "\n",
    "        # Fully connected layers with ReLU activation\n",
    "        self.fc1 = nn.Linear(512 * 3 * 3, 128)  \n",
    "        self.fc2 = nn.Linear(128, 10)\n",
    "\n",
    "    def forward(self, x):\n",
    "        x = self.pool(F.relu(self.conv1(x)))\n",
    "        x = self.pool(F.relu(self.conv2(x)))\n",
    "        x = self.pool(F.relu(self.conv3(x)))\n",
    "        x = self.pool(F.relu(self.conv4(x)))\n",
    "        x = self.pool(F.relu(self.conv5(x)))\n",
    "        x = self.pool(F.relu(self.conv6(x)))\n",
    "        x = torch.flatten(x, 1) # flatten all dimensions except batch      \n",
    "        x = F.relu(self.fc1(x))\n",
    "        x = self.fc2(x)\n",
    "        return x"
   ]
  },
  {
   "cell_type": "code",
   "execution_count": 21,
   "id": "2c0a0b30-b277-4658-bf6e-9d3dc78b7f55",
   "metadata": {},
   "outputs": [
    {
     "name": "stdout",
     "output_type": "stream",
     "text": [
      "-------------DETAILS OF CNN ARCHITECHTURE-------------\n",
      "Net(\n",
      "  (conv1): Conv2d(3, 16, kernel_size=(3, 3), stride=(1, 1), padding=(1, 1))\n",
      "  (conv2): Conv2d(16, 32, kernel_size=(3, 3), stride=(1, 1), padding=(1, 1))\n",
      "  (conv3): Conv2d(32, 64, kernel_size=(3, 3), stride=(1, 1), padding=(1, 1))\n",
      "  (conv4): Conv2d(64, 128, kernel_size=(3, 3), stride=(1, 1), padding=(1, 1))\n",
      "  (conv5): Conv2d(128, 256, kernel_size=(3, 3), stride=(1, 1), padding=(1, 1))\n",
      "  (conv6): Conv2d(256, 512, kernel_size=(3, 3), stride=(1, 1), padding=(1, 1))\n",
      "  (pool): MaxPool2d(kernel_size=2, stride=2, padding=0, dilation=1, ceil_mode=False)\n",
      "  (fc1): Linear(in_features=4608, out_features=128, bias=True)\n",
      "  (fc2): Linear(in_features=128, out_features=10, bias=True)\n",
      ")\n"
     ]
    }
   ],
   "source": [
    "net = Net()\n",
    "print(\"-------------DETAILS OF CNN ARCHITECHTURE-------------\")\n",
    "print(net.to(device)) # for GPU"
   ]
  },
  {
   "cell_type": "markdown",
   "id": "60c6fbbe-cd42-4c2b-8be0-73bd5442c949",
   "metadata": {},
   "source": [
    "Used Cross Entropy Loss since this is the most common loss function for image classification tasks. It measures the difference between the predicted probability distribution and the true class label.\n",
    "As optimizer used Adam with 0.0001 learning rate."
   ]
  },
  {
   "cell_type": "markdown",
   "id": "7aaecb32-ce57-4c1b-98ba-dada5e8ee618",
   "metadata": {},
   "source": [
    "#### Best Model"
   ]
  },
  {
   "cell_type": "code",
   "execution_count": 22,
   "id": "c827627e-dde9-43ac-9c72-29442547ac11",
   "metadata": {},
   "outputs": [],
   "source": [
    "loss_func = nn.CrossEntropyLoss()\n",
    "optimizer = optim.Adam(net.parameters(), lr=0.001)"
   ]
  },
  {
   "cell_type": "code",
   "execution_count": 23,
   "id": "4a74bfaa-1a25-4fed-89c1-7e4561be3917",
   "metadata": {},
   "outputs": [
    {
     "name": "stdout",
     "output_type": "stream",
     "text": [
      "Epoch [1/100] loss: 1.359, accuracy: 52.925%\n",
      "Epoch [2/100] loss: 0.718, accuracy: 75.808%\n",
      "Epoch [3/100] loss: 0.433, accuracy: 85.501%\n",
      "Epoch [4/100] loss: 0.305, accuracy: 90.183%\n",
      "Epoch [5/100] loss: 0.247, accuracy: 92.175%\n",
      "Epoch [6/100] loss: 0.210, accuracy: 93.285%\n",
      "Epoch [7/100] loss: 0.189, accuracy: 94.061%\n",
      "Epoch [8/100] loss: 0.180, accuracy: 94.348%\n",
      "Epoch [9/100] loss: 0.161, accuracy: 94.908%\n",
      "Epoch [10/100] loss: 0.156, accuracy: 95.096%\n",
      "Epoch [11/100] loss: 0.145, accuracy: 95.362%\n",
      "Epoch [12/100] loss: 0.145, accuracy: 95.415%\n",
      "Epoch [13/100] loss: 0.138, accuracy: 95.593%\n",
      "Epoch [14/100] loss: 0.132, accuracy: 95.923%\n",
      "Epoch [15/100] loss: 0.130, accuracy: 95.896%\n",
      "Epoch [16/100] loss: 0.127, accuracy: 96.023%\n",
      "Epoch [17/100] loss: 0.126, accuracy: 96.083%\n",
      "Epoch [18/100] loss: 0.118, accuracy: 96.283%\n",
      "Epoch [19/100] loss: 0.118, accuracy: 96.427%\n",
      "Epoch [20/100] loss: 0.116, accuracy: 96.370%\n",
      "Epoch [21/100] loss: 0.112, accuracy: 96.560%\n",
      "Epoch [22/100] loss: 0.110, accuracy: 96.683%\n",
      "Epoch [23/100] loss: 0.112, accuracy: 96.665%\n",
      "Epoch [24/100] loss: 0.107, accuracy: 96.699%\n",
      "Epoch [25/100] loss: 0.117, accuracy: 96.556%\n",
      "Epoch [26/100] loss: 0.110, accuracy: 96.739%\n",
      "Epoch [27/100] loss: 0.106, accuracy: 96.828%\n",
      "Epoch [28/100] loss: 0.110, accuracy: 96.653%\n",
      "Epoch [29/100] loss: 0.110, accuracy: 96.715%\n",
      "Epoch [30/100] loss: 0.103, accuracy: 96.954%\n",
      "Epoch [31/100] loss: 0.107, accuracy: 96.949%\n",
      "Epoch [32/100] loss: 0.103, accuracy: 96.933%\n",
      "Epoch [33/100] loss: 0.101, accuracy: 97.006%\n",
      "Epoch [34/100] loss: 0.105, accuracy: 96.950%\n",
      "Epoch [35/100] loss: 0.105, accuracy: 97.000%\n",
      "Epoch [36/100] loss: 0.109, accuracy: 96.901%\n",
      "Epoch [37/100] loss: 0.106, accuracy: 96.945%\n",
      "Epoch [38/100] loss: 0.100, accuracy: 97.137%\n",
      "Epoch [39/100] loss: 0.106, accuracy: 97.010%\n",
      "Epoch [40/100] loss: 0.104, accuracy: 97.068%\n",
      "Epoch [41/100] loss: 0.106, accuracy: 97.029%\n",
      "Epoch [42/100] loss: 0.102, accuracy: 97.106%\n",
      "Epoch [43/100] loss: 0.103, accuracy: 97.170%\n",
      "Epoch [44/100] loss: 0.108, accuracy: 96.957%\n",
      "Epoch [45/100] loss: 0.106, accuracy: 97.017%\n",
      "Epoch [46/100] loss: 0.106, accuracy: 97.100%\n",
      "Epoch [47/100] loss: 0.103, accuracy: 97.174%\n",
      "Epoch [48/100] loss: 0.100, accuracy: 97.177%\n",
      "Epoch [49/100] loss: 0.107, accuracy: 97.084%\n",
      "Epoch [50/100] loss: 0.102, accuracy: 97.222%\n",
      "Epoch [51/100] loss: 0.104, accuracy: 97.213%\n",
      "Epoch [52/100] loss: 0.106, accuracy: 97.237%\n",
      "Epoch [53/100] loss: 0.107, accuracy: 97.192%\n",
      "Epoch [54/100] loss: 0.100, accuracy: 97.367%\n",
      "Epoch [55/100] loss: 0.102, accuracy: 97.258%\n",
      "Epoch [56/100] loss: 0.103, accuracy: 97.213%\n",
      "Epoch [57/100] loss: 0.104, accuracy: 97.296%\n",
      "Epoch [58/100] loss: 0.108, accuracy: 97.130%\n",
      "Epoch [59/100] loss: 0.102, accuracy: 97.388%\n",
      "Epoch [60/100] loss: 0.107, accuracy: 97.259%\n",
      "Epoch [61/100] loss: 0.106, accuracy: 97.297%\n",
      "Epoch [62/100] loss: 0.108, accuracy: 97.251%\n",
      "Epoch [63/100] loss: 0.113, accuracy: 97.170%\n",
      "Epoch [64/100] loss: 0.109, accuracy: 97.338%\n",
      "Epoch [65/100] loss: 0.107, accuracy: 97.324%\n",
      "Epoch [66/100] loss: 0.107, accuracy: 97.332%\n",
      "Epoch [67/100] loss: 0.111, accuracy: 97.206%\n",
      "Epoch [68/100] loss: 0.107, accuracy: 97.451%\n",
      "Epoch [69/100] loss: 0.111, accuracy: 97.326%\n",
      "Epoch [70/100] loss: 0.120, accuracy: 97.093%\n",
      "Epoch [71/100] loss: 0.110, accuracy: 97.379%\n",
      "Epoch [72/100] loss: 0.108, accuracy: 97.391%\n",
      "Epoch [73/100] loss: 0.121, accuracy: 97.140%\n",
      "Epoch [74/100] loss: 0.104, accuracy: 97.466%\n",
      "Epoch [75/100] loss: 0.112, accuracy: 97.278%\n",
      "Epoch [76/100] loss: 0.115, accuracy: 97.252%\n",
      "Epoch [77/100] loss: 0.116, accuracy: 97.340%\n",
      "Epoch [78/100] loss: 0.122, accuracy: 97.197%\n",
      "Epoch [79/100] loss: 0.116, accuracy: 97.332%\n",
      "Epoch [80/100] loss: 0.126, accuracy: 97.166%\n",
      "Epoch [81/100] loss: 0.125, accuracy: 97.272%\n",
      "Epoch [82/100] loss: 0.116, accuracy: 97.381%\n",
      "Epoch [83/100] loss: 0.123, accuracy: 97.303%\n",
      "Epoch [84/100] loss: 0.116, accuracy: 97.442%\n",
      "Epoch [85/100] loss: 0.125, accuracy: 97.216%\n",
      "Epoch [86/100] loss: 0.119, accuracy: 97.394%\n",
      "Epoch [87/100] loss: 0.130, accuracy: 97.203%\n",
      "Epoch [88/100] loss: 0.125, accuracy: 97.379%\n",
      "Epoch [89/100] loss: 0.122, accuracy: 97.397%\n",
      "Epoch [90/100] loss: 0.129, accuracy: 97.257%\n",
      "Epoch [91/100] loss: 0.126, accuracy: 97.340%\n",
      "Epoch [92/100] loss: 0.135, accuracy: 97.207%\n",
      "Epoch [93/100] loss: 0.131, accuracy: 97.265%\n",
      "Epoch [94/100] loss: 0.124, accuracy: 97.325%\n",
      "Epoch [95/100] loss: 0.130, accuracy: 97.317%\n",
      "Epoch [96/100] loss: 0.127, accuracy: 97.320%\n",
      "Epoch [97/100] loss: 0.140, accuracy: 97.180%\n",
      "Epoch [98/100] loss: 0.135, accuracy: 97.182%\n",
      "Epoch [99/100] loss: 0.132, accuracy: 97.234%\n",
      "Epoch [100/100] loss: 0.122, accuracy: 97.466%\n",
      "Finished Training\n"
     ]
    }
   ],
   "source": [
    "# lists to store loss and accuracy for each epoch\n",
    "epoch_size = 100 # given in instructions\n",
    "\n",
    "epoch_losses = []\n",
    "epoch_accuracies = []\n",
    "\n",
    "for epoch in range(epoch_size):  # loop over the dataset multiple times\n",
    "\n",
    "    running_loss = 0.0\n",
    "    correct = 0\n",
    "    total = 0\n",
    "    \n",
    "    for i, data in enumerate(trainloader, 0):\n",
    "        # get the inputs; data is a list of [inputs, labels]\n",
    "        inputs, labels = data[0].to(device), data[1].to(device) #for GPU\n",
    "\n",
    "        # zero the parameter gradients for no gradient accumulation\n",
    "        optimizer.zero_grad()\n",
    "\n",
    "        # forward + backward + optimize\n",
    "        outputs = net(inputs)\n",
    "        loss = loss_func(outputs, labels)\n",
    "        loss.backward()\n",
    "        optimizer.step()\n",
    "\n",
    "        # calculate running loss\n",
    "        running_loss += loss.item()\n",
    "        # Calculate running accuracy (assuming you have a function `get_accuracy`)\n",
    "        _, predicted = torch.max(outputs.data, 1)\n",
    "        total += labels.size(0)\n",
    "        correct += (predicted == labels).sum().item()\n",
    "\n",
    "    # Store epoch loss and accuracy\n",
    "    epoch_loss = running_loss / len(trainloader)\n",
    "    epoch_accuracy = 100 * correct / total\n",
    "    epoch_losses.append(epoch_loss)\n",
    "    epoch_accuracies.append(epoch_accuracy)\n",
    "        \n",
    "    print(f'Epoch [{epoch+1}/{epoch_size}] loss: {epoch_loss:.3f}, accuracy: {epoch_accuracy:.3f}%')\n",
    "\n",
    "\n",
    "print('Finished Training')"
   ]
  },
  {
   "cell_type": "code",
   "execution_count": 24,
   "id": "acc07619-5009-41ba-ad00-82fe9eb476a5",
   "metadata": {},
   "outputs": [
    {
     "data": {
      "image/png": "[encoded data removed]",
      "text/plain": [
       "<Figure size 1000x500 with 2 Axes>"
      ]
     },
     "metadata": {},
     "output_type": "display_data"
    },
    {
     "name": "stdout",
     "output_type": "stream",
     "text": [
      "Finished Training\n"
     ]
    }
   ],
   "source": [
    "# Plotting after training\n",
    "plt.figure(figsize=(10, 5))\n",
    "plt.subplot(1, 2, 1)\n",
    "plt.plot(epoch_losses, label=\"Training Loss\")\n",
    "plt.xlabel(\"Epoch\")\n",
    "plt.ylabel(\"Loss\")\n",
    "plt.legend()\n",
    "\n",
    "plt.subplot(1, 2, 2)\n",
    "plt.plot(epoch_accuracies, label=\"Training Accuracy\")\n",
    "plt.xlabel(\"Epoch\")\n",
    "plt.ylabel(\"Accuracy (%)\")\n",
    "plt.legend()\n",
    "\n",
    "plt.show()\n",
    "\n",
    "print('Finished Training')"
   ]
  },
  {
   "cell_type": "code",
   "execution_count": 25,
   "id": "b9ac3fdc-59c9-4213-b96a-66e3d7a2b844",
   "metadata": {},
   "outputs": [
    {
     "name": "stdout",
     "output_type": "stream",
     "text": [
      "Accuracy of the network on the validation images: 78 %\n"
     ]
    }
   ],
   "source": [
    "correct = 0\n",
    "total = 0\n",
    "# since we're not training, we don't need to calculate the gradients for our outputs\n",
    "with torch.no_grad():\n",
    "    for data in valloader:\n",
    "        images, labels = data[0].to(device), data[1].to(device) # for GPU\n",
    "        # calculate outputs by running images through the network\n",
    "        outputs = net(images)\n",
    "        # the class with the highest energy is what we choose as prediction\n",
    "        _, predicted = torch.max(outputs.data, 1)\n",
    "        total += labels.size(0)\n",
    "        correct += (predicted == labels).sum().item()\n",
    "\n",
    "print(f'Accuracy of the network on the validation images: {100 * correct // total} %')"
   ]
  },
  {
   "cell_type": "code",
   "execution_count": 26,
   "id": "73d0a901-3137-43d8-899a-c1320ed39323",
   "metadata": {},
   "outputs": [
    {
     "name": "stdout",
     "output_type": "stream",
     "text": [
      "Accuracy for class: cane  is 82.4 %\n",
      "Accuracy for class: cavallo is 74.4 %\n",
      "Accuracy for class: elefante is 66.7 %\n",
      "Accuracy for class: farfalla is 83.4 %\n",
      "Accuracy for class: gallina is 84.3 %\n",
      "Accuracy for class: gatto is 67.1 %\n",
      "Accuracy for class: mucca is 72.0 %\n",
      "Accuracy for class: pecora is 59.0 %\n",
      "Accuracy for class: ragno is 86.7 %\n",
      "Accuracy for class: scoiattolo is 76.6 %\n"
     ]
    }
   ],
   "source": [
    "# prepare to count predictions for each class\n",
    "correct_pred = {classname: 0 for classname in classes}\n",
    "total_pred = {classname: 0 for classname in classes}\n",
    "\n",
    "# again no gradients needed\n",
    "with torch.no_grad():\n",
    "    for data in valloader:\n",
    "        images, labels = data[0].to(device), data[1].to(device)\n",
    "        outputs = net(images)\n",
    "        _, predictions = torch.max(outputs, 1)\n",
    "        # collect the correct predictions for each class\n",
    "        for label, prediction in zip(labels, predictions):\n",
    "            if label == prediction:\n",
    "                correct_pred[classes[label]] += 1\n",
    "            total_pred[classes[label]] += 1\n",
    "\n",
    "\n",
    "# print accuracy for each class\n",
    "for classname, correct_count in correct_pred.items():\n",
    "    try:\n",
    "        accuracy = 100 * float(correct_count) / total_pred[classname]\n",
    "        print(f'Accuracy for class: {classname:5s} is {accuracy:.1f} %')\n",
    "    except:\n",
    "        print(\"hata\")"
   ]
  },
  {
   "cell_type": "code",
   "execution_count": 27,
   "id": "3675411d-7a11-4bc8-b009-50529690224a",
   "metadata": {},
   "outputs": [],
   "source": [
    "PATH = './compvis3vers1.3.pth'\n",
    "torch.save(net.state_dict(), PATH)"
   ]
  },
  {
   "cell_type": "markdown",
   "id": "9cee8a05-bdd4-4a25-b658-36eae535443e",
   "metadata": {},
   "source": [
    "### Transfer Learning With EfficientNet B0\n"
   ]
  },
  {
   "cell_type": "code",
   "execution_count": null,
   "id": "74a449f7-fc1e-4bbf-9eba-02be23f10067",
   "metadata": {},
   "outputs": [],
   "source": [
    "model = models.efficientnet_b0(weights='DEFAULT')\n",
    "for param in model.parameters():\n",
    "    param.requires_grad = False\n",
    "num_ftrs = model.classifier[1].in_features\n",
    "model.classifier[1] = nn.Linear(num_ftrs, 10)"
   ]
  },
  {
   "cell_type": "code",
   "execution_count": null,
   "id": "c9864e72-2623-4e5d-95ea-8aae377c45e9",
   "metadata": {},
   "outputs": [],
   "source": [
    "model = model.to(device)"
   ]
  },
  {
   "cell_type": "code",
   "execution_count": null,
   "id": "61a9475c-2779-419f-923f-d9472e2df3d0",
   "metadata": {},
   "outputs": [],
   "source": [
    "loss_func = nn.CrossEntropyLoss()\n",
    "optimizer = optim.SGD(model.parameters(), lr=0.001, momentum=0.9)"
   ]
  },
  {
   "cell_type": "code",
   "execution_count": null,
   "id": "a2d92b38-bbfd-4f9d-838b-7fceb4817042",
   "metadata": {},
   "outputs": [],
   "source": [
    "# lists to store loss and accuracy for each epoch\n",
    "\n",
    "epoch_losses = []\n",
    "epoch_accuracies = []\n",
    "\n",
    "for epoch in range(epoch_size):  # loop over the dataset multiple times\n",
    "\n",
    "    running_loss = 0.0\n",
    "    correct = 0\n",
    "    total = 0\n",
    "    \n",
    "    for i, data in enumerate(trainloader, 0):\n",
    "        # get the inputs; data is a list of [inputs, labels]\n",
    "        inputs, labels = data[0].to(device), data[1].to(device) #for GPU\n",
    "\n",
    "        # zero the parameter gradients for no gradient accumulation\n",
    "        optimizer.zero_grad()\n",
    "\n",
    "        # forward + backward + optimize\n",
    "        outputs = model(inputs)\n",
    "        loss = loss_func(outputs, labels)\n",
    "        loss.backward()\n",
    "        optimizer.step()\n",
    "\n",
    "        # calculate running loss\n",
    "        running_loss += loss.item()\n",
    "        # Calculate running accuracy (assuming you have a function `get_accuracy`)\n",
    "        _, predicted = torch.max(outputs.data, 1)\n",
    "        total += labels.size(0)\n",
    "        correct += (predicted == labels).sum().item()\n",
    "\n",
    "    # Store epoch loss and accuracy\n",
    "    epoch_loss = running_loss / len(trainloader)\n",
    "    epoch_accuracy = 100 * correct / total\n",
    "    epoch_losses.append(epoch_loss)\n",
    "    epoch_accuracies.append(epoch_accuracy)\n",
    "        \n",
    "    print(f'Epoch [{epoch+1}/{epoch_size}] loss: {epoch_loss:.3f}, accuracy: {epoch_accuracy:.3f}%')\n",
    "\n",
    "\n",
    "print('Finished Training')"
   ]
  },
  {
   "cell_type": "code",
   "execution_count": null,
   "id": "3b0ccaf6-1b04-4cb2-a1b4-e56bfec72f50",
   "metadata": {},
   "outputs": [],
   "source": [
    "# Plotting after training\n",
    "plt.figure(figsize=(10, 5))\n",
    "plt.subplot(1, 2, 1)\n",
    "plt.plot(epoch_losses, label=\"Training Loss\")\n",
    "plt.xlabel(\"Epoch\")\n",
    "plt.ylabel(\"Loss\")\n",
    "plt.legend()\n",
    "\n",
    "plt.subplot(1, 2, 2)\n",
    "plt.plot(epoch_accuracies, label=\"Training Accuracy\")\n",
    "plt.xlabel(\"Epoch\")\n",
    "plt.ylabel(\"Accuracy (%)\")\n",
    "plt.legend()\n",
    "\n",
    "plt.show()\n",
    "\n",
    "print('Finished Training')"
   ]
  },
  {
   "cell_type": "code",
   "execution_count": null,
   "id": "fcf261bc-e698-4db3-8eef-d166e641696d",
   "metadata": {},
   "outputs": [],
   "source": [
    "correct = 0\n",
    "total = 0\n",
    "# since we're not training, we don't need to calculate the gradients for our outputs\n",
    "with torch.no_grad():\n",
    "    for data in valloader:\n",
    "        images, labels = data[0].to(device), data[1].to(device) # for GPU\n",
    "        # calculate outputs by running images through the network\n",
    "        outputs = model(images)\n",
    "        # the class with the highest energy is what we choose as prediction\n",
    "        _, predicted = torch.max(outputs.data, 1)\n",
    "        total += labels.size(0)\n",
    "        correct += (predicted == labels).sum().item()\n",
    "\n",
    "print(f'Accuracy of the network on the validation images: {100 * correct // total} %')"
   ]
  },
  {
   "cell_type": "code",
   "execution_count": null,
   "id": "f7f351ad-b4bf-46c4-8595-6d0260a82ecb",
   "metadata": {},
   "outputs": [],
   "source": []
  },
  {
   "cell_type": "code",
   "execution_count": null,
   "id": "bcfc88bf-15b6-4551-99a4-a5d53e55dd6e",
   "metadata": {},
   "outputs": [],
   "source": []
  },
  {
   "cell_type": "code",
   "execution_count": null,
   "id": "18c46b1a-ecd2-4e83-adc7-fed4934025e9",
   "metadata": {},
   "outputs": [],
   "source": []
  },
  {
   "cell_type": "code",
   "execution_count": null,
   "id": "11837abd-4acc-441c-ba48-75581f3788e3",
   "metadata": {},
   "outputs": [],
   "source": []
  },
  {
   "cell_type": "code",
   "execution_count": null,
   "id": "3d7b6a90-5821-4c93-b937-16e809129d69",
   "metadata": {},
   "outputs": [],
   "source": []
  }
 ],
 "metadata": {
  "kernelspec": {
   "display_name": "Python 3 (ipykernel)",
   "language": "python",
   "name": "python3"
  },
  "language_info": {
   "codemirror_mode": {
    "name": "ipython",
    "version": 3
   },
   "file_extension": ".py",
   "mimetype": "text/x-python",
   "name": "python",
   "nbconvert_exporter": "python",
   "pygments_lexer": "ipython3",
   "version": "3.12.0"
  }
 },
 "nbformat": 4,
 "nbformat_minor": 5
}
